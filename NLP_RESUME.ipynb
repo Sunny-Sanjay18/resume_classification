{
 "cells": [
  {
   "cell_type": "code",
   "execution_count": 4,
   "id": "1bb64f07-debe-4000-9a0f-90492243c890",
   "metadata": {},
   "outputs": [],
   "source": [
    "import nltk \n",
    "import numpy as np\n",
    "import pandas as pd\n",
    "import matplotlib.pyplot as plt\n",
    "import seaborn as sns\n",
    "import re\n",
    "from nltk.corpus import stopwords\n",
    "from sklearn.preprocessing import LabelEncoder\n",
    "from sklearn.model_selection import train_test_split\n",
    "from sklearn.feature_extraction.text import TfidfVectorizer\n",
    "from sklearn.metrics import accuracy_score\n",
    "plt.style.use('ggplot')"
   ]
  },
  {
   "cell_type": "code",
   "execution_count": 5,
   "id": "3cba9dea-5f64-4a8d-993e-95c3f6a37c1e",
   "metadata": {},
   "outputs": [
    {
     "data": {
      "text/plain": [
       "(79, 2)"
      ]
     },
     "execution_count": 5,
     "metadata": {},
     "output_type": "execute_result"
    }
   ],
   "source": [
    "df=pd.read_csv(\"Raw_Resume.csv\")\n",
    "df.shape"
   ]
  },
  {
   "cell_type": "code",
   "execution_count": 6,
   "id": "da68104b-8108-46fb-b159-21698cb11e15",
   "metadata": {},
   "outputs": [
    {
     "data": {
      "text/html": [
       "<div>\n",
       "<style scoped>\n",
       "    .dataframe tbody tr th:only-of-type {\n",
       "        vertical-align: middle;\n",
       "    }\n",
       "\n",
       "    .dataframe tbody tr th {\n",
       "        vertical-align: top;\n",
       "    }\n",
       "\n",
       "    .dataframe thead th {\n",
       "        text-align: right;\n",
       "    }\n",
       "</style>\n",
       "<table border=\"1\" class=\"dataframe\">\n",
       "  <thead>\n",
       "    <tr style=\"text-align: right;\">\n",
       "      <th></th>\n",
       "      <th>Category</th>\n",
       "      <th>Raw_Details</th>\n",
       "    </tr>\n",
       "  </thead>\n",
       "  <tbody>\n",
       "    <tr>\n",
       "      <th>0</th>\n",
       "      <td>workday</td>\n",
       "      <td>Chinna Subbarayudu M\\n\\nDOB: 06th March 1994\\n...</td>\n",
       "    </tr>\n",
       "    <tr>\n",
       "      <th>1</th>\n",
       "      <td>workday</td>\n",
       "      <td>convert /content/drive/MyDrive/Resumes_Docx/wo...</td>\n",
       "    </tr>\n",
       "    <tr>\n",
       "      <th>2</th>\n",
       "      <td>workday</td>\n",
       "      <td>convert /content/drive/MyDrive/Resumes_Docx/wo...</td>\n",
       "    </tr>\n",
       "    <tr>\n",
       "      <th>3</th>\n",
       "      <td>workday</td>\n",
       "      <td>Vinay kumar .v\\nWorkday Functional Consultant\\...</td>\n",
       "    </tr>\n",
       "    <tr>\n",
       "      <th>4</th>\n",
       "      <td>workday</td>\n",
       "      <td>Srikanth (WORKDAY hCM Consultant)\\t           ...</td>\n",
       "    </tr>\n",
       "  </tbody>\n",
       "</table>\n",
       "</div>"
      ],
      "text/plain": [
       "  Category                                        Raw_Details\n",
       "0  workday  Chinna Subbarayudu M\\n\\nDOB: 06th March 1994\\n...\n",
       "1  workday  convert /content/drive/MyDrive/Resumes_Docx/wo...\n",
       "2  workday  convert /content/drive/MyDrive/Resumes_Docx/wo...\n",
       "3  workday  Vinay kumar .v\\nWorkday Functional Consultant\\...\n",
       "4  workday  Srikanth (WORKDAY hCM Consultant)\\t           ..."
      ]
     },
     "execution_count": 6,
     "metadata": {},
     "output_type": "execute_result"
    }
   ],
   "source": [
    "df.head()"
   ]
  },
  {
   "cell_type": "code",
   "execution_count": 7,
   "id": "e76afc38-7631-4e19-b2f2-8a7357ac9aca",
   "metadata": {},
   "outputs": [
    {
     "data": {
      "text/html": [
       "<div>\n",
       "<style scoped>\n",
       "    .dataframe tbody tr th:only-of-type {\n",
       "        vertical-align: middle;\n",
       "    }\n",
       "\n",
       "    .dataframe tbody tr th {\n",
       "        vertical-align: top;\n",
       "    }\n",
       "\n",
       "    .dataframe thead th {\n",
       "        text-align: right;\n",
       "    }\n",
       "</style>\n",
       "<table border=\"1\" class=\"dataframe\">\n",
       "  <thead>\n",
       "    <tr style=\"text-align: right;\">\n",
       "      <th></th>\n",
       "      <th>Category</th>\n",
       "      <th>Raw_Details</th>\n",
       "    </tr>\n",
       "  </thead>\n",
       "  <tbody>\n",
       "    <tr>\n",
       "      <th>38</th>\n",
       "      <td>React Developer</td>\n",
       "      <td>HARIPRIYA BATTINA \\n\\nExperience as UI Develop...</td>\n",
       "    </tr>\n",
       "    <tr>\n",
       "      <th>29</th>\n",
       "      <td>SQL Developer</td>\n",
       "      <td>SQL AND MSBI DEVELOPER\\n\\nSQL AND MSBI DEVELOP...</td>\n",
       "    </tr>\n",
       "    <tr>\n",
       "      <th>13</th>\n",
       "      <td>workday</td>\n",
       "      <td>VENKATA SAIKRISHNA\\n\\n Workday Consultant\\n\\n\\...</td>\n",
       "    </tr>\n",
       "    <tr>\n",
       "      <th>55</th>\n",
       "      <td>React Developer</td>\n",
       "      <td>MAREEDU LOKESH BABU\\n\\nPROFESSIONAL OVERVIEW\\n...</td>\n",
       "    </tr>\n",
       "    <tr>\n",
       "      <th>10</th>\n",
       "      <td>workday</td>\n",
       "      <td>Workday HCM  Techno functional Consultant     ...</td>\n",
       "    </tr>\n",
       "  </tbody>\n",
       "</table>\n",
       "</div>"
      ],
      "text/plain": [
       "           Category                                        Raw_Details\n",
       "38  React Developer  HARIPRIYA BATTINA \\n\\nExperience as UI Develop...\n",
       "29    SQL Developer  SQL AND MSBI DEVELOPER\\n\\nSQL AND MSBI DEVELOP...\n",
       "13          workday  VENKATA SAIKRISHNA\\n\\n Workday Consultant\\n\\n\\...\n",
       "55  React Developer  MAREEDU LOKESH BABU\\n\\nPROFESSIONAL OVERVIEW\\n...\n",
       "10          workday  Workday HCM  Techno functional Consultant     ..."
      ]
     },
     "execution_count": 7,
     "metadata": {},
     "output_type": "execute_result"
    }
   ],
   "source": [
    "df.sample(5)"
   ]
  },
  {
   "cell_type": "code",
   "execution_count": 8,
   "id": "e067c325-0e96-4a01-b2b2-8727b8d91e70",
   "metadata": {},
   "outputs": [
    {
     "data": {
      "text/plain": [
       "array(['workday', 'SQL Developer', 'React Developer', 'Peoplesoft Resume',\n",
       "       'Peoplesoft'], dtype=object)"
      ]
     },
     "execution_count": 8,
     "metadata": {},
     "output_type": "execute_result"
    }
   ],
   "source": [
    "df['Category'].unique()"
   ]
  },
  {
   "cell_type": "code",
   "execution_count": 9,
   "id": "bb2d044f-d10d-4ccd-a41c-d12be2364514",
   "metadata": {},
   "outputs": [
    {
     "data": {
      "text/plain": [
       "Category\n",
       "React Developer      23\n",
       "workday              21\n",
       "Peoplesoft Resume    20\n",
       "SQL Developer        14\n",
       "Peoplesoft            1\n",
       "Name: count, dtype: int64"
      ]
     },
     "execution_count": 9,
     "metadata": {},
     "output_type": "execute_result"
    }
   ],
   "source": [
    "df['Category'].value_counts()"
   ]
  },
  {
   "cell_type": "code",
   "execution_count": 10,
   "id": "a7825ba9-6ab8-4b4a-b68f-ef75beae555a",
   "metadata": {},
   "outputs": [
    {
     "data": {
      "image/png": "[encoded data removed]",
      "text/plain": [
       "<Figure size 1100x500 with 1 Axes>"
      ]
     },
     "metadata": {},
     "output_type": "display_data"
    }
   ],
   "source": [
    "#Data visualization\n",
    "plt.figure(figsize=(11,5))\n",
    "df['Category'].value_counts().plot(kind='bar')\n",
    "plt.show()"
   ]
  },
  {
   "cell_type": "code",
   "execution_count": 11,
   "id": "cabccba8-2005-4880-ac0d-e916945e149b",
   "metadata": {},
   "outputs": [
    {
     "data": {
      "image/png": "[encoded data removed]",
      "text/plain": [
       "<Figure size 1100x500 with 1 Axes>"
      ]
     },
     "metadata": {},
     "output_type": "display_data"
    }
   ],
   "source": [
    "counts = df['Category'].value_counts()\n",
    "labels = df['Category'].unique()\n",
    "plt.figure(figsize=(11,5))\n",
    "plt.pie(counts, labels = labels, autopct = '%1.1f%%', colors=plt.cm.Oranges(np.linspace(0,1,3)))\n",
    "plt.show()"
   ]
  },
  {
   "cell_type": "code",
   "execution_count": 12,
   "id": "810db96a-43af-41a9-8d09-2fe22e3010a5",
   "metadata": {},
   "outputs": [
    {
     "data": {
      "text/plain": [
       "'Chinna Subbarayudu M\\n\\nDOB: 06th March 1994\\n\\nNationality: Indian\\n\\n\\t\\t\\n\\n\\t\\t\\tPROFILE SUMMARY:\\n\\n\\n\\n\\n\\n\\n\\nHaving around 5.1 years of IT experience in developing and Implementation of ERP technology by using Workday HCM and ETL (informatica) technologies.\\n\\n3.6 years of experience as Workday Integration Consultant and involved in a maintenance and implementation.\\n\\nExperience in all phases in Workday like requirements gathering, Analysis, Design, Development and Testing.\\n\\nHands on experience in inbound/ outbound integrations using core connector, Workday studio, managing business processes, working with EIB, report writer.\\n\\nDeveloped and maintained custom-report types (Advanced, Matrix, Composite) using report writer tool.\\n\\nInvolved in transformation of XML into XSLT for presenting data for different web Services.\\n\\nBuilding Workday Integration (EIB), calculated fields, Custom Reports and Writing XSLT transformation code.\\n\\nDeveloped testing\\xa0strategies and validation scenarios along with project Scope and Requirement documents\\n\\nPrioritizing, reproducing and verifying bug fixes in different Workday integrations.\\n\\nHaving knowledge in XML, WD-SOAP Web Service, and WD- REST Web Service and experienced in using tools such as Soap, XML Exchanger\\n\\nInvolved in writing transformation code for converting XML into XSLT\\n\\nfor different web services.\\n\\nPerformed validation testing and end to end testing and also involved in integration testing\\n\\nHaving good experiences in testing, we perform UAT and end to end validation testing\\n\\nKnowledge in Software Development Life Cycle process (Analysis, Design, Development, Testing) for Implementation and Support in different application domain.\\n\\nExperience of working in Production support model.\\n\\nExcellent client interaction skills and proven experience in working independently as well as in a team.\\n\\n\\n\\nTECHNICAL SKILLS:\\n\\n\\n\\n\\n\\n\\n\\nWORKDAY SKILLS\\n\\nWorkday HCM, Workday Advanced Report Writer, Core connectors PICOF, Document Transformation and Workday Studio, EIB, Workday Web Services, Workday Security.\\n\\nProgramming Languages\\n\\nXML, SQL, Basic shell scripting.\\n\\nETL tools\\n\\nInformatica 9 &10 ,Teradata\\n\\nOperating systems\\n\\nLinux, Windows\\n\\nTools\\n\\nSQL developer, Talend, Putty, Appworx, Maestro, Winscp\\n\\n\\n\\n\\t\\t\\tEducation Details:\\n\\n\\n\\n\\n\\n\\tBsc(Computers) from Yogi Vemana University,Kadapa.\\n\\n\\t\\t\\tWork Experience:\\n\\n\\n\\n\\n\\nWorking as a Workday Technical Consultant for Progile Infotech pvt ltd  from June - 2016 to till date.        \\n\\n\\t\\t\\tProjects under taken:\\n\\n\\n\\n\\n\\n\\n\\n\\n\\nClient: South West Airlines                                                                                   June2019- Present\\n\\nRole: Workday Technical  Consultant\\n\\n\\n\\nResponsibilities:\\n\\n\\t\\tIntegrations in Workday using different tools like CCW, EIB, DT, Custom Report and Workday Studio, Responsible for developing Integrations and testing them.\\n\\n\\t\\tResponsible for supporting the new change requests and enhancements in the project\\n\\n\\t\\tCreated calculated fields and Worked on Simple and Advanced Reports.\\n\\n\\t\\tWorked on Integration Systems (EIBs, Core Connectors).\\n\\n\\t\\tDay to day support of Workday Integrations, Security, and Reporting issues.\\n\\nHad knowledge on hire, terminate, data changes etc. of employees\\n\\nExpertise in developing Payroll interfaces using PICOF, PECI with the help of Workday Studio and Document Transformation to meet client’s complex payroll requirements.\\n\\nDesign of web services to send/receive data between Workday and Third party system.\\n\\nDeveloped analytics dashboards utilizing multiple data sources to provide actionable reporting and embedded analytics.\\n\\nExperienced in analyzing and preparing Project Deliverables such as Technical Design Document (TDD) and Functional Design Document (FDD).\\n\\nCreated test scripts and coordinated the testing\\xa0effort with all the stakeholders for System and UAT. \\n\\n\\n\\n\\n\\nClient:  Arbella Insurance Group\\t\\t\\t\\t                                Dec2017– May2019\\n\\nRole:  Workday Integration Consultant\\n\\n\\n\\nResponsibilities:\\n\\nAnalyzed client’s HCM/Payroll business needs through client working sessions and supported development of new business processes and a future state design.\\n\\n\\t\\tWorked as an Integration Developer for Analysis, design, development, testing and implementation of Workday HCM solutions for Global Implementation in GE. \\n\\n\\t\\tPerformance Tuning in Population (2 lakh employees) and Complexity Perspective.\\n\\n\\t\\tCreated Multiple CCW Integrations for Demographical data with DT, EIBs with reports\\n\\n\\t\\tSupported on both Inbound and Outbound Studio Integrations, Created security groups, users and configured required security policies in Domain and BP level..\\n\\n\\t\\tUtilize in-depth knowledge of functional and Technical experience in Workday and other leading-edge products and technology in conjunction with industry and business skills to deliver solutions to customer.\\n\\n\\t\\tBuilt Integrations in Workday using different tools like CCW, EIB, and Reports. Identifying Testing strategy getting sign-off on all project deliverables.\\n\\n\\t\\tCollaborate with the ST (System Testing) and UAT (User Acceptance Testing) teams to test the integration builds. Fix issues encountered in ST and UAT phase.\\n\\nDeveloped Several Complex Integrations using Workday Studio and EIB.\\n\\nDay to day support of Workday HCM, Security, Payroll, Benefits, Compensation and Reporting issues\\n\\nInvolved in the design phase and prototyping for further discussions with the client.\\n\\nCreated and used calculated fields in reporting, business processes, integrations and other areas within Workday.\\n\\n\\n\\nClient:  News Technologies  \\t\\t\\t          \\t\\t\\t     June 2016 –Nov 2017\\n\\nRole:  Peoplesoft Consultant          \\n\\n\\n\\nResponsibilities:\\n\\n\\n\\nInvolved in design and customization of tables and panels and adding new option using People Tools.\\n\\nResponsible for Test Plan, Defect Report Status, and Knowledge Transfer Documents.\\n\\nUploading the test scripts from MS Excel to Test Director.\\n\\nDeveloped and executed the SQL queries to fetch the data from PeopleSoft HRMS (Oracle).\\n\\nThe fetched data has to be analyzed against the bridge database and it should be reported if there is any deviation.\\n\\nIntegrated third party hiring application with PeopleSoft System using Component Interface program and loaded data into PS tables.\\n\\nUnit tested the developed application and created test scripts and test cases for the Unit Testing and System Testing\\n\\n\\t\\t\\tDeclaration:\\n\\n\\n\\n\\n\\n\\t                  I hereby declare that the information provided above is true to the best of my knowledge.\\n\\n\\n\\n\\n\\nDate : \\t\\t\\t\\t\\t\\t\\t\\t\\tName: M Chinna Subbarayudus\\n\\n\\n\\n\\n\\n\\t\\tPage 2'"
      ]
     },
     "execution_count": 12,
     "metadata": {},
     "output_type": "execute_result"
    }
   ],
   "source": [
    "# Text cleaning using NLP\n",
    "df['Raw_Details'][0]\n"
   ]
  },
  {
   "cell_type": "code",
   "execution_count": 13,
   "id": "22cb05d6-278c-40a7-9fef-56f2ec6205b6",
   "metadata": {},
   "outputs": [],
   "source": [
    "# Remove URL\n",
    "# Remove emails\n",
    "# Remove special characters\n",
    "# Remove Stopwords"
   ]
  },
  {
   "cell_type": "code",
   "execution_count": 14,
   "id": "b4327f99-c6b6-48f3-a6b3-d53e5d25b93a",
   "metadata": {},
   "outputs": [],
   "source": [
    "def clean(text):\n",
    "    url_pattern= re.compile(r'https?://\\S+|www\\.\\S+')\n",
    "    email_pattern = re.compile(r'\\b[A-Za-z0-9._%+-]+@[A-Za-z0-9.-]+\\.[A-Za-z]{2,}\\b')\n",
    "    clean_text = url_pattern.sub('',text)\n",
    "    clean_text = email_pattern.sub('',text)\n",
    "    \n",
    "    clean_text = re.sub('[^\\w\\s]','', clean_text)\n",
    "    stop_words = set(stopwords.words('english'))\n",
    "    clean_text = ' '.join(word for word in clean_text.split() if word.lower() not in stop_words)\n",
    "    \n",
    "    return clean_text    "
   ]
  },
  {
   "cell_type": "code",
   "execution_count": 15,
   "id": "1d8996b3-e019-443e-a648-43b0cbe92d65",
   "metadata": {},
   "outputs": [],
   "source": [
    "# example usage\n",
    "s = 'Hello, $%& i found this # article at https://www.sanjay.com ! you can contact me at sanjay@example'"
   ]
  },
  {
   "cell_type": "code",
   "execution_count": 16,
   "id": "67e45461-35ff-49a2-9e02-0dce27656d8f",
   "metadata": {},
   "outputs": [
    {
     "data": {
      "text/plain": [
       "'Hello found article httpswwwsanjaycom contact sanjayexample'"
      ]
     },
     "execution_count": 16,
     "metadata": {},
     "output_type": "execute_result"
    }
   ],
   "source": [
    "clean(s)"
   ]
  },
  {
   "cell_type": "code",
   "execution_count": 27,
   "id": "ab02c1ad-891a-483b-af7a-ca28dee3499b",
   "metadata": {
    "scrolled": true
   },
   "outputs": [],
   "source": [
    "df['Raw_Details']=df['Raw_Details'].apply(lambda x: clean(x))"
   ]
  },
  {
   "cell_type": "code",
   "execution_count": 31,
   "id": "da8219cb-66ad-4c4d-b04d-044e26a30fb0",
   "metadata": {},
   "outputs": [
    {
     "data": {
      "text/plain": [
       "'Chinna Subbarayudu DOB 06th March 1994 Nationality Indian PROFILE SUMMARY around 51 years experience developing Implementation ERP technology using Workday HCM ETL informatica technologies 36 years experience Workday Integration Consultant involved maintenance implementation Experience phases Workday like requirements gathering Analysis Design Development Testing Hands experience inbound outbound integrations using core connector Workday studio managing business processes working EIB report writer Developed maintained customreport types Advanced Matrix Composite using report writer tool Involved transformation XML XSLT presenting data different web Services Building Workday Integration EIB calculated fields Custom Reports Writing XSLT transformation code Developed testing strategies validation scenarios along project Scope Requirement documents Prioritizing reproducing verifying bug fixes different Workday integrations knowledge XML WDSOAP Web Service WD REST Web Service experienced using tools Soap XML Exchanger Involved writing transformation code converting XML XSLT different web services Performed validation testing end end testing also involved integration testing good experiences testing perform UAT end end validation testing Knowledge Software Development Life Cycle process Analysis Design Development Testing Implementation Support different application domain Experience working Production support model Excellent client interaction skills proven experience working independently well team TECHNICAL SKILLS WORKDAY SKILLS Workday HCM Workday Advanced Report Writer Core connectors PICOF Document Transformation Workday Studio EIB Workday Web Services Workday Security Programming Languages XML SQL Basic shell scripting ETL tools Informatica 9 10 Teradata Operating systems Linux Windows Tools SQL developer Talend Putty Appworx Maestro Winscp Education Details BscComputers Yogi Vemana UniversityKadapa Work Experience Working Workday Technical Consultant Progile Infotech pvt ltd June 2016 till date Projects taken Client South West Airlines June2019 Present Role Workday Technical Consultant Responsibilities Integrations Workday using different tools like CCW EIB DT Custom Report Workday Studio Responsible developing Integrations testing Responsible supporting new change requests enhancements project Created calculated fields Worked Simple Advanced Reports Worked Integration Systems EIBs Core Connectors Day day support Workday Integrations Security Reporting issues knowledge hire terminate data changes etc employees Expertise developing Payroll interfaces using PICOF PECI help Workday Studio Document Transformation meet clients complex payroll requirements Design web services sendreceive data Workday Third party system Developed analytics dashboards utilizing multiple data sources provide actionable reporting embedded analytics Experienced analyzing preparing Project Deliverables Technical Design Document TDD Functional Design Document FDD Created test scripts coordinated testing effort stakeholders System UAT Client Arbella Insurance Group Dec2017 May2019 Role Workday Integration Consultant Responsibilities Analyzed clients HCMPayroll business needs client working sessions supported development new business processes future state design Worked Integration Developer Analysis design development testing implementation Workday HCM solutions Global Implementation GE Performance Tuning Population 2 lakh employees Complexity Perspective Created Multiple CCW Integrations Demographical data DT EIBs reports Supported Inbound Outbound Studio Integrations Created security groups users configured required security policies Domain BP level Utilize indepth knowledge functional Technical experience Workday leadingedge products technology conjunction industry business skills deliver solutions customer Built Integrations Workday using different tools like CCW EIB Reports Identifying Testing strategy getting signoff project deliverables Collaborate ST System Testing UAT User Acceptance Testing teams test integration builds Fix issues encountered ST UAT phase Developed Several Complex Integrations using Workday Studio EIB Day day support Workday HCM Security Payroll Benefits Compensation Reporting issues Involved design phase prototyping discussions client Created used calculated fields reporting business processes integrations areas within Workday Client News Technologies June 2016 Nov 2017 Role Peoplesoft Consultant Responsibilities Involved design customization tables panels adding new option using People Tools Responsible Test Plan Defect Report Status Knowledge Transfer Documents Uploading test scripts MS Excel Test Director Developed executed SQL queries fetch data PeopleSoft HRMS Oracle fetched data analyzed bridge database reported deviation Integrated third party hiring application PeopleSoft System using Component Interface program loaded data PS tables Unit tested developed application created test scripts test cases Unit Testing System Testing Declaration hereby declare information provided true best knowledge Date Name Chinna Subbarayudus Page 2'"
      ]
     },
     "execution_count": 31,
     "metadata": {},
     "output_type": "execute_result"
    }
   ],
   "source": [
    "df['Raw_Details'][0]"
   ]
  },
  {
   "cell_type": "code",
   "execution_count": null,
   "id": "fb494db2-e679-48fe-9967-30d38cd0344e",
   "metadata": {},
   "outputs": [],
   "source": [
    "# Encoding"
   ]
  },
  {
   "cell_type": "code",
   "execution_count": 33,
   "id": "189a1224-6f4c-4b3f-a2d7-01715e3d206c",
   "metadata": {},
   "outputs": [
    {
     "name": "stderr",
     "output_type": "stream",
     "text": [
      "C:\\Users\\Sanjay\\coding\\Lib\\site-packages\\sklearn\\preprocessing\\_label.py:97: DataConversionWarning: A column-vector y was passed when a 1d array was expected. Please change the shape of y to (n_samples, ), for example using ravel().\n",
      "  y = column_or_1d(y, warn=True)\n"
     ]
    }
   ],
   "source": [
    "le = LabelEncoder()\n",
    "le.fit(df[['Category']])\n",
    "df['Category'] = le.transform(df['Category'])"
   ]
  },
  {
   "cell_type": "code",
   "execution_count": 35,
   "id": "ea1bfda0-6b61-416f-b118-6c80e89c8aa3",
   "metadata": {},
   "outputs": [
    {
     "data": {
      "text/plain": [
       "array([4, 3, 2, 1, 0])"
      ]
     },
     "execution_count": 35,
     "metadata": {},
     "output_type": "execute_result"
    }
   ],
   "source": [
    "df['Category'].unique()"
   ]
  },
  {
   "cell_type": "code",
   "execution_count": 43,
   "id": "dce30d62-67f8-4a8e-95ef-e2257af487a0",
   "metadata": {},
   "outputs": [],
   "source": [
    "tfidf = TfidfVectorizer()\n",
    "tfidf.fit(df['Raw_Details'])\n",
    "resume=tfidf.transform(df['Raw_Details'])"
   ]
  },
  {
   "cell_type": "code",
   "execution_count": 45,
   "id": "7f7fcb3e-e89c-4bcc-8bea-a5de0e26e379",
   "metadata": {},
   "outputs": [],
   "source": [
    "x_train, x_test, y_train, y_test = train_test_split(resume, df['Category'], test_size = 0.2, random_state = 42)"
   ]
  },
  {
   "cell_type": "code",
   "execution_count": 49,
   "id": "27dc7a85-69a1-420c-ad9e-e73b0cbb7fb8",
   "metadata": {},
   "outputs": [
    {
     "data": {
      "text/plain": [
       "array([4, 3, 2, 1, 0])"
      ]
     },
     "execution_count": 49,
     "metadata": {},
     "output_type": "execute_result"
    }
   ],
   "source": [
    "df['Category'].unique()"
   ]
  },
  {
   "cell_type": "code",
   "execution_count": 51,
   "id": "9206b004-5d99-48f6-95c5-fbd048e2d655",
   "metadata": {},
   "outputs": [
    {
     "data": {
      "text/plain": [
       "(63, 5412)"
      ]
     },
     "execution_count": 51,
     "metadata": {},
     "output_type": "execute_result"
    }
   ],
   "source": [
    "x_train.shape"
   ]
  },
  {
   "cell_type": "code",
   "execution_count": 53,
   "id": "aefe627c-ca8c-45f2-b1e3-f9512ff2c8d9",
   "metadata": {},
   "outputs": [
    {
     "data": {
      "text/plain": [
       "(63,)"
      ]
     },
     "execution_count": 53,
     "metadata": {},
     "output_type": "execute_result"
    }
   ],
   "source": [
    "y_train.shape"
   ]
  },
  {
   "cell_type": "code",
   "execution_count": 55,
   "id": "f0691edf-54c5-4b25-b736-b0b65275fc59",
   "metadata": {},
   "outputs": [
    {
     "data": {
      "text/plain": [
       "(16, 5412)"
      ]
     },
     "execution_count": 55,
     "metadata": {},
     "output_type": "execute_result"
    }
   ],
   "source": [
    "x_test.shape"
   ]
  },
  {
   "cell_type": "code",
   "execution_count": 57,
   "id": "32d32d24-9e86-4cd0-ad1c-aac551f7f637",
   "metadata": {},
   "outputs": [
    {
     "data": {
      "text/plain": [
       "(16,)"
      ]
     },
     "execution_count": 57,
     "metadata": {},
     "output_type": "execute_result"
    }
   ],
   "source": [
    "y_test.shape"
   ]
  },
  {
   "cell_type": "code",
   "execution_count": 63,
   "id": "77ee2c13-1db3-4eda-a6f1-6abcd0b4f41a",
   "metadata": {},
   "outputs": [
    {
     "name": "stdout",
     "output_type": "stream",
     "text": [
      "Accuarcy of the KNN Classifier on test data->:0.9375\n"
     ]
    }
   ],
   "source": [
    "from sklearn.neighbors import KNeighborsClassifier\n",
    "clf = KNeighborsClassifier()\n",
    "clf.fit(x_train,y_train)\n",
    "y_pred = clf.predict(x_test)\n",
    "accuracy = accuracy_score(y_test, y_pred)\n",
    "print(f\"Accuarcy of the KNN Classifier on test data->:{accuracy}\")"
   ]
  },
  {
   "cell_type": "code",
   "execution_count": 79,
   "id": "65ff0c3e-5496-42ec-bf36-a964065f1f95",
   "metadata": {},
   "outputs": [],
   "source": [
    "from sklearn.linear_model import LogisticRegression\n",
    "from sklearn.ensemble import RandomForestClassifier\n",
    "from sklearn.svm import SVC\n",
    "from sklearn.naive_bayes import MultinomialNB\n",
    "from sklearn.multiclass import OneVsRestClassifier "
   ]
  },
  {
   "cell_type": "code",
   "execution_count": 99,
   "id": "e38ae09a-823e-4e39-9cb3-c505aedaa4d9",
   "metadata": {},
   "outputs": [],
   "source": [
    "models = {\n",
    "    'KNeighborsClassifier' : KNeighborsClassifier(),\n",
    "    'LogisticRegression' : LogisticRegression(),\n",
    "    'RandomForestClassifier' : RandomForestClassifier(),\n",
    "    'SVC' : SVC(),\n",
    "    'MultinomialNB' : MultinomialNB(),\n",
    "    'OneVsRestClassifier' : OneVsRestClassifier(KNeighborsClassifier())\n",
    "}"
   ]
  },
  {
   "cell_type": "code",
   "execution_count": 101,
   "id": "63422b0e-8761-4978-99b8-b7610d629ea1",
   "metadata": {},
   "outputs": [
    {
     "name": "stdout",
     "output_type": "stream",
     "text": [
      "Accuarcy of the KNeighborsClassifier on test data->:0.9375\n",
      "Accuarcy of the LogisticRegression on test data->:0.8125\n",
      "Accuarcy of the RandomForestClassifier on test data->:0.875\n",
      "Accuarcy of the SVC on test data->:0.8125\n",
      "Accuarcy of the MultinomialNB on test data->:0.75\n",
      "Accuarcy of the OneVsRestClassifier on test data->:0.9375\n"
     ]
    }
   ],
   "source": [
    "accuracy_scores = {}\n",
    "for model_name, model in  models.items ():\n",
    "    model.fit(x_train, y_train)\n",
    "    y_pred = model.predict(x_test)\n",
    "    accuracy = accuracy_score(y_test, y_pred)\n",
    "    accuracy_scores[model_name] = accuracy\n",
    "    print(f\"Accuarcy of the {model_name} on test data->:{accuracy}\")"
   ]
  },
  {
   "cell_type": "code",
   "execution_count": 103,
   "id": "8297282a-c788-4ba9-92ed-63754ca7e1c0",
   "metadata": {},
   "outputs": [],
   "source": [
    "model = KNeighborsClassifier()\n",
    "model.fit(x_train,y_train)\n",
    "y_pred = model.predict(x_test)"
   ]
  },
  {
   "cell_type": "code",
   "execution_count": null,
   "id": "2af79a65-9348-49eb-9cce-d61bf8332e2c",
   "metadata": {},
   "outputs": [],
   "source": [
    "# example usage"
   ]
  },
  {
   "cell_type": "code",
   "execution_count": 113,
   "id": "54ea7855-721c-4acc-8594-6ac3cef43c21",
   "metadata": {},
   "outputs": [],
   "source": [
    "myresume = \"\"\"'Chinna Subbarayudu M\\n\\nDOB: 06th March 1994\\n\\nNationality: Indian\\n\\n\\t\\t\\n\\n\\t\\t\\tPROFILE SUMMARY:\\n\\n\\n\\n\\n\\n\\n\\nHaving around 5.1 years of IT experience in developing and Implementation of ERP technology by using Workday HCM and ETL (informatica) technologies.\\n\\n3.6 years of experience as Workday Integration Consultant and involved in a maintenance and implementation.\\n\\nExperience in all phases in Workday like requirements gathering, Analysis, Design, Development and Testing.\\n\\nHands on experience in inbound/ outbound integrations using core connector, Workday studio, managing business processes, working with EIB, report writer.\\n\\nDeveloped and maintained custom-report types (Advanced, Matrix, Composite) using report writer tool.\\n\\nInvolved in transformation of XML into XSLT for presenting data for different web Services.\\n\\nBuilding Workday Integration (EIB), calculated fields, Custom Reports and Writing XSLT transformation code.\\n\\nDeveloped testing\\xa0strategies and validation scenarios along with project Scope and Requirement documents\\n\\nPrioritizing, reproducing and verifying bug fixes in different Workday integrations.\\n\\nHaving knowledge in XML, WD-SOAP Web Service, and WD- REST Web Service and experienced in using tools such as Soap, XML Exchanger\\n\\nInvolved in writing transformation code for converting XML into XSLT\\n\\nfor different web services.\\n\\nPerformed validation testing and end to end testing and also involved in integration testing\\n\\nHaving good experiences in testing, we perform UAT and end to end validation testing\\n\\nKnowledge in Software Development Life Cycle process (Analysis, Design, Development, Testing) for Implementation and Support in different application domain.\\n\\nExperience of working in Production support model.\\n\\nExcellent client interaction skills and proven experience in working independently as well as in a team.\\n\\n\\n\\nTECHNICAL SKILLS:\\n\\n\\n\\n\\n\\n\\n\\nWORKDAY SKILLS\\n\\nWorkday HCM, Workday Advanced Report Writer, Core connectors PICOF, Document Transformation and Workday Studio, EIB, Workday Web Services, Workday Security.\\n\\nProgramming Languages\\n\\nXML, SQL, Basic shell scripting.\\n\\nETL tools\\n\\nInformatica 9 &10 ,Teradata\\n\\nOperating systems\\n\\nLinux, Windows\\n\\nTools\\n\\nSQL developer, Talend, Putty, Appworx, Maestro, Winscp\\n\\n\\n\\n\\t\\t\\tEducation Details:\\n\\n\\n\\n\\n\\n\\tBsc(Computers) from Yogi Vemana University,Kadapa.\\n\\n\\t\\t\\tWork Experience:\\n\\n\\n\\n\\n\\nWorking as a Workday Technical Consultant for Progile Infotech pvt ltd  from June - 2016 to till date.        \\n\\n\\t\\t\\tProjects under taken:\\n\\n\\n\\n\\n\\n\\n\\n\\n\\nClient: South West Airlines                                                                                   June2019- Present\\n\\nRole: Workday Technical  Consultant\\n\\n\\n\\nResponsibilities:\\n\\n\\t\\tIntegrations in Workday using different tools like CCW, EIB, DT, Custom Report and Workday Studio, Responsible for developing Integrations and testing them.\\n\\n\\t\\tResponsible for supporting the new change requests and enhancements in the project\\n\\n\\t\\tCreated calculated fields and Worked on Simple and Advanced Reports.\\n\\n\\t\\tWorked on Integration Systems (EIBs, Core Connectors).\\n\\n\\t\\tDay to day support of Workday Integrations, Security, and Reporting issues.\\n\\nHad knowledge on hire, terminate, data changes etc. of employees\\n\\nExpertise in developing Payroll interfaces using PICOF, PECI with the help of Workday Studio and Document Transformation to meet client’s complex payroll requirements.\\n\\nDesign of web services to send/receive data between Workday and Third party system.\\n\\nDeveloped analytics dashboards utilizing multiple data sources to provide actionable reporting and embedded analytics.\\n\\nExperienced in analyzing and preparing Project Deliverables such as Technical Design Document (TDD) and Functional Design Document (FDD).\\n\\nCreated test scripts and coordinated the testing\\xa0effort with all the stakeholders for System and UAT. \\n\\n\\n\\n\\n\\nClient:  Arbella Insurance Group\\t\\t\\t\\t                                Dec2017– May2019\\n\\nRole:  Workday Integration Consultant\\n\\n\\n\\nResponsibilities:\\n\\nAnalyzed client’s HCM/Payroll business needs through client working sessions and supported development of new business processes and a future state design.\\n\\n\\t\\tWorked as an Integration Developer for Analysis, design, development, testing and implementation of Workday HCM solutions for Global Implementation in GE. \\n\\n\\t\\tPerformance Tuning in Population (2 lakh employees) and Complexity Perspective.\\n\\n\\t\\tCreated Multiple CCW Integrations for Demographical data with DT, EIBs with reports\\n\\n\\t\\tSupported on both Inbound and Outbound Studio Integrations, Created security groups, users and configured required security policies in Domain and BP level..\\n\\n\\t\\tUtilize in-depth knowledge of functional and Technical experience in Workday and other leading-edge products and technology in conjunction with industry and business skills to deliver solutions to customer.\\n\\n\\t\\tBuilt Integrations in Workday using different tools like CCW, EIB, and Reports. Identifying Testing strategy getting sign-off on all project deliverables.\\n\\n\\t\\tCollaborate with the ST (System Testing) and UAT (User Acceptance Testing) teams to test the integration builds. Fix issues encountered in ST and UAT phase.\\n\\nDeveloped Several Complex Integrations using Workday Studio and EIB.\\n\\nDay to day support of Workday HCM, Security, Payroll, Benefits, Compensation and Reporting issues\\n\\nInvolved in the design phase and prototyping for further discussions with the client.\\n\\nCreated and used calculated fields in reporting, business processes, integrations and other areas within Workday.\\n\\n\\n\\nClient:  News Technologies  \\t\\t\\t          \\t\\t\\t     June 2016 –Nov 2017\\n\\nRole:  Peoplesoft Consultant          \\n\\n\\n\\nResponsibilities:\\n\\n\\n\\nInvolved in design and customization of tables and panels and adding new option using People Tools.\\n\\nResponsible for Test Plan, Defect Report Status, and Knowledge Transfer Documents.\\n\\nUploading the test scripts from MS Excel to Test Director.\\n\\nDeveloped and executed the SQL queries to fetch the data from PeopleSoft HRMS (Oracle).\\n\\nThe fetched data has to be analyzed against the bridge database and it should be reported if there is any deviation.\\n\\nIntegrated third party hiring application with PeopleSoft System using Component Interface program and loaded data into PS tables.\\n\\nUnit tested the developed application and created test scripts and test cases for the Unit Testing and System Testing\\n\\n\\t\\t\\tDeclaration:\\n\\n\\n\\n\\n\\n\\t                  I hereby declare that the information provided above is true to the best of my knowledge.\\n\\n\\n\\n\\n\\nDate : \\t\\t\\t\\t\\t\\t\\t\\t\\tName: M Chinna Subbarayudus\\n\\n\\n\\n\\n\\n\\t\\tPage 2'\"\"\""
   ]
  },
  {
   "cell_type": "code",
   "execution_count": 121,
   "id": "e0e4dfa5-dac3-4999-a450-cd0a12211343",
   "metadata": {},
   "outputs": [
    {
     "data": {
      "text/html": [
       "<div>\n",
       "<style scoped>\n",
       "    .dataframe tbody tr th:only-of-type {\n",
       "        vertical-align: middle;\n",
       "    }\n",
       "\n",
       "    .dataframe tbody tr th {\n",
       "        vertical-align: top;\n",
       "    }\n",
       "\n",
       "    .dataframe thead th {\n",
       "        text-align: right;\n",
       "    }\n",
       "</style>\n",
       "<table border=\"1\" class=\"dataframe\">\n",
       "  <thead>\n",
       "    <tr style=\"text-align: right;\">\n",
       "      <th></th>\n",
       "      <th>Category</th>\n",
       "      <th>Raw_Details</th>\n",
       "    </tr>\n",
       "  </thead>\n",
       "  <tbody>\n",
       "    <tr>\n",
       "      <th>0</th>\n",
       "      <td>4</td>\n",
       "      <td>Chinna Subbarayudu DOB 06th March 1994 Nationa...</td>\n",
       "    </tr>\n",
       "    <tr>\n",
       "      <th>1</th>\n",
       "      <td>4</td>\n",
       "      <td>convert contentdriveMyDriveResumes_Docxworkday...</td>\n",
       "    </tr>\n",
       "    <tr>\n",
       "      <th>2</th>\n",
       "      <td>4</td>\n",
       "      <td>convert contentdriveMyDriveResumes_Docxworkday...</td>\n",
       "    </tr>\n",
       "    <tr>\n",
       "      <th>3</th>\n",
       "      <td>4</td>\n",
       "      <td>Vinay kumar v Workday Functional Consultant EX...</td>\n",
       "    </tr>\n",
       "    <tr>\n",
       "      <th>4</th>\n",
       "      <td>4</td>\n",
       "      <td>Srikanth WORKDAY hCM Consultant Seeking suitab...</td>\n",
       "    </tr>\n",
       "  </tbody>\n",
       "</table>\n",
       "</div>"
      ],
      "text/plain": [
       "   Category                                        Raw_Details\n",
       "0         4  Chinna Subbarayudu DOB 06th March 1994 Nationa...\n",
       "1         4  convert contentdriveMyDriveResumes_Docxworkday...\n",
       "2         4  convert contentdriveMyDriveResumes_Docxworkday...\n",
       "3         4  Vinay kumar v Workday Functional Consultant EX...\n",
       "4         4  Srikanth WORKDAY hCM Consultant Seeking suitab..."
      ]
     },
     "execution_count": 121,
     "metadata": {},
     "output_type": "execute_result"
    }
   ],
   "source": [
    "df.head()"
   ]
  },
  {
   "cell_type": "code",
   "execution_count": 125,
   "id": "980a65d3-87b0-4a43-b3cd-85504ca40810",
   "metadata": {},
   "outputs": [],
   "source": [
    "import pickle\n",
    "pickle.dump(tfidf, open('tfidf.pkl', 'wb'))\n",
    "pickle.dump(model, open('model.pkl', 'wb'))"
   ]
  },
  {
   "cell_type": "code",
   "execution_count": null,
   "id": "d41ff267-300f-4e01-978e-61a73b03aea8",
   "metadata": {},
   "outputs": [],
   "source": []
  }
 ],
 "metadata": {
  "kernelspec": {
   "display_name": "Python 3 (ipykernel)",
   "language": "python",
   "name": "python3"
  },
  "language_info": {
   "codemirror_mode": {
    "name": "ipython",
    "version": 3
   },
   "file_extension": ".py",
   "mimetype": "text/x-python",
   "name": "python",
   "nbconvert_exporter": "python",
   "pygments_lexer": "ipython3",
   "version": "3.11.5"
  }
 },
 "nbformat": 4,
 "nbformat_minor": 5
}
